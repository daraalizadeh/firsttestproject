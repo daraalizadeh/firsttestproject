{
 "cells": [
  {
   "cell_type": "code",
   "execution_count": 1,
   "id": "1b62d716",
   "metadata": {},
   "outputs": [
    {
     "ename": "NameError",
     "evalue": "name 'try_me' is not defined",
     "output_type": "error",
     "traceback": [
      "\u001b[0;31m---------------------------------------------------------------------------\u001b[0m",
      "\u001b[0;31mNameError\u001b[0m                                 Traceback (most recent call last)",
      "\u001b[0;32m/var/folders/5v/jrtfsf456ts80g8z3xvl3yq80000gn/T/ipykernel_23906/2538540862.py\u001b[0m in \u001b[0;36m<module>\u001b[0;34m\u001b[0m\n\u001b[0;32m----> 1\u001b[0;31m \u001b[0mtry_me\u001b[0m\u001b[0;34m(\u001b[0m\u001b[0;34m)\u001b[0m\u001b[0;34m\u001b[0m\u001b[0;34m\u001b[0m\u001b[0m\n\u001b[0m",
      "\u001b[0;31mNameError\u001b[0m: name 'try_me' is not defined"
     ]
    }
   ],
   "source": [
    "try_me()"
   ]
  },
  {
   "cell_type": "code",
   "execution_count": 2,
   "id": "8adc067f",
   "metadata": {},
   "outputs": [],
   "source": [
    "from firsttestproject.lib import try_me\n"
   ]
  },
  {
   "cell_type": "code",
   "execution_count": 3,
   "id": "87339ccf",
   "metadata": {},
   "outputs": [
    {
     "name": "stdout",
     "output_type": "stream",
     "text": [
      "Ayyy, must be the monayyy!\n"
     ]
    }
   ],
   "source": [
    "try_me()"
   ]
  },
  {
   "cell_type": "code",
   "execution_count": null,
   "id": "7ce221f2",
   "metadata": {},
   "outputs": [],
   "source": []
  }
 ],
 "metadata": {
  "kernelspec": {
   "display_name": "Python 3 (ipykernel)",
   "language": "python",
   "name": "python3"
  },
  "language_info": {
   "codemirror_mode": {
    "name": "ipython",
    "version": 3
   },
   "file_extension": ".py",
   "mimetype": "text/x-python",
   "name": "python",
   "nbconvert_exporter": "python",
   "pygments_lexer": "ipython3",
   "version": "3.8.12"
  }
 },
 "nbformat": 4,
 "nbformat_minor": 5
}
